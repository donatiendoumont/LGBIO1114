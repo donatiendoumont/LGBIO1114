{
  "cells": [
    {
      "cell_type": "markdown",
      "metadata": {
        "id": "38KF2IOGcFJb"
      },
      "source": [
        "# LGBIO1114 - Organes artificiels et réhabilitation \n",
        "## TP1 : Rappels théoriques et filtres \n",
        "\n",
        "__Auteur :__ Antoine De Comite\n",
        "\n",
        "__Contenu :__ A l'issue de cette séance vous devriez être capables de : \n",
        "\n",
        "\n",
        "*   Comprendre et interpréter les représentations temporelles et fréquentielles d'un signal donné\n",
        "*   Comprendre le concept de filtre digital\n",
        "*   Comprendre et expliquer l'impact d'un filtre sur un signal donné\n",
        "\n",
        "\n"
      ]
    },
    {
      "cell_type": "code",
      "execution_count": null,
      "metadata": {
        "id": "OUYAYCgR6yFk"
      },
      "outputs": [],
      "source": [
        "#Librairies utiles \n",
        "\n",
        "import numpy as np\n",
        "import matplotlib.pyplot as plt\n",
        "import scipy as sc\n",
        "from scipy import signal\n",
        "import ipywidgets as widgets\n",
        "%config InlineBackend.figure_format = 'retina'\n",
        "# use NMA plot style\n",
        "plt.style.use(\"https://raw.githubusercontent.com/NeuromatchAcademy/course-content/master/nma.mplstyle\")\n",
        "my_layout = widgets.Layout()"
      ]
    },
    {
      "cell_type": "code",
      "execution_count": null,
      "metadata": {
        "id": "sbbLH0bFk3ZD"
      },
      "outputs": [],
      "source": [
        "#@title Data settings\n",
        "#  \n",
        "def load_dataset():\n",
        "  # Cette fonction crée le dataset avec lequel nous allons travailler dans cette \n",
        "  # séance d'exercices. \n",
        "  #\n",
        "  # Inputs : Aucun\n",
        "  #\n",
        "  # Outputs : S qui est une matrice 2xN qui contient sur la première ligne le vecteur temps\n",
        "  #           et sur la seconde ligne le vecteur des données \n",
        "  np.random.seed(25)\n",
        "  amplitudes = np.random.uniform(low=0.5,high=4,size=(25,1))\n",
        "  frequencies = np.random.uniform(low=20,high=5000,size=(25,1))\n",
        "  phases = np.random.uniform(low=0,high=2*np.pi,size=(25,1))\n",
        "  time_vector = np.linspace(0,1,10000)\n",
        "  signal_vector = np.zeros_like(time_vector)\n",
        "\n",
        "  for ii in range(len(amplitudes)):\n",
        "    signal_vector = signal_vector + amplitudes[ii]*np.sin(2*np.pi*frequencies[ii]*time_vector+phases[ii])\n",
        "  S = np.vstack((time_vector,signal_vector))\n",
        "  return S"
      ]
    },
    {
      "cell_type": "markdown",
      "metadata": {
        "id": "wvYOwzUJBYqr"
      },
      "source": [
        "# Partie 1 : Représentation des signaux\n",
        "**a) Représentation temporelle**\n",
        "\n",
        "La représentation la plus *classique* d'un signal est une représentation temporelle (i.e. on représente l'évolution de son intensité en fonction du temps). Ce type de représentation n'en est qu'une parmi tant d'autres et ne permet pas forcément d'appréhender correctement tout le contenu du signal...\n",
        "\n",
        "**Exercice 1a** \n",
        "\n",
        "En utilisant la fonction *load_dataset* qui vous est fournie, extrayez les données et préparez les pour en séparer le vecteur temps et l'intensité du signal."
      ]
    },
    {
      "cell_type": "code",
      "execution_count": null,
      "metadata": {
        "id": "ozaHXJD8HAt7"
      },
      "outputs": [],
      "source": [
        "######################\n",
        "### Votre code ici ###\n",
        "######################\n",
        "\n"
      ]
    },
    {
      "cell_type": "markdown",
      "metadata": {
        "id": "qEDWyKzgBcb4"
      },
      "source": [
        "**Exercice 1b**\n",
        "\n",
        "Représentez le signal dans le domaine temporel, que pouvez-vous observer ?"
      ]
    },
    {
      "cell_type": "code",
      "execution_count": null,
      "metadata": {
        "id": "m4fHXR4fBxuQ"
      },
      "outputs": [],
      "source": [
        "def RepresTemporelle(t_vector,input_signal):\n",
        "  # Le but de cette fonction est de représenter un signal dans le domaine temporel\n",
        "  # Inputs : t_vector le vecteur temporel\n",
        "  #          input_signal le signal \n",
        "  #\n",
        "  # Outputs : Aucun\n",
        "  ######################\n",
        "  ### Votre code ici ###\n",
        "  ######################\n",
        " \n",
        "RepresTemporelle(t_vector,input_signal) "
      ]
    },
    {
      "cell_type": "markdown",
      "metadata": {},
      "source": [
        "Résultat possible :"
      ]
    },
    {
      "cell_type": "markdown",
      "metadata": {
        "id": "Ev40Ubs8hXS0"
      },
      "source": [
        "<img alt='Solution hint' align='left' width=413 height=300 src=https://raw.githubusercontent.com/decomiteA/LGBIO1114/master/figure1.png>"
      ]
    },
    {
      "cell_type": "markdown",
      "metadata": {
        "id": "VeqfiMxdM1U5"
      },
      "source": [
        "**b) Représentation fréquentielle**\n",
        "\n",
        "Tout signal temporel peut également être représenté comme une somme infinie de sinus de fréquences et phases différentes. Cette représentation consiste à calculer la transformée de Fourier du signal et de reporter les coefficients des différents sinus contenus dans le signal. Ainsi une signal f(x) peut être décrit : \n",
        "\n",
        "$$ \\begin{align*} \n",
        "    f_N(x) &= \\sum^{\\infty}_{n = \\infty} c_n(P) \\exp \\left(i2\\pi\\frac{n}{T}x\\right) \\\\\n",
        "    \\text{où \,\,\,}c_n(P) &= \\frac{1}{T}\\int_T P(t) e^{-i 2 \\pi \\frac{n}{T}t}dt\n",
        "\\end{align*}$$\n",
        "Voir aussi : \n",
        "$$ \\begin{align*} \n",
        "        f_N(x) &= \\frac{a_0(f)}{2} + \\sum^N_{n=1} \\left(a_n(f) \\cos\\left(2\\pi\\frac{n}{T}x\\right) + b_n(f) \\sin\\left(2\\pi \\frac{n}{T}x\\right)\\right)\\\\\n",
        "        \\text{où \,\,\,}a_n(f)&= \\frac{2}{T} \\int_T f(x) \\cos\\left(2\\pi \\frac{n}{T} x \\right) dx \\\\ \n",
        "        \\text{et \,\,\,}b_n(f)&= \\frac{2}{T} \\int_T f(x) \\sin\\left(2\\pi \\frac{n}{T} x \\right) dx \\\\\n",
        "    \\end{align*}\n",
        "$$\n",
        "La représentation fréquentielle est utile pour tout signal qui subira des opérations fréquentielles (le filtrage en est un exemple). \n",
        "\n",
        "**Exercice 2**\n",
        "\n",
        "Complétez la fonction ci-dessous afin de calculer la transformée de Fourier (TF) du signal donné en argument et de la représenter graphiquement.\n",
        "\n",
        "*Indice* : N'hésitez pas à consulter la documentation de la fonction [np.fft.fft](https://numpy.org/doc/stable/reference/generated/numpy.fft.fft.html) qui pourra vous être utile."
      ]
    },
    {
      "cell_type": "code",
      "execution_count": null,
      "metadata": {
        "id": "a6vcisxHcAw_"
      },
      "outputs": [],
      "source": [
        "def computeTF(t_vector,input_signal):\n",
        "  # Le but de cette fonction est de calculer la transformée de Fourier d'un signal\n",
        "  # Inputs : t_vector le vecteur temporel\n",
        "  #          input_signal le signal d'entrée \n",
        "  #\n",
        "  # Outputs : tg_sig qui est le vecteur contenant la transformée de Fourier\n",
        "  #           f_vector qui est le vecteur caractérisant l'axe fréquentiel sur lequel la TF est calculée \n",
        "  # \n",
        "  ######################\n",
        "  ### Votre code ici ###\n",
        "  ######################\n",
        "\n",
        "  return tf_sig, f_vector\n",
        "  "
      ]
    },
    {
      "cell_type": "code",
      "execution_count": null,
      "metadata": {
        "id": "Xq45wxWWFm1y"
      },
      "outputs": [],
      "source": [
        "def RepresFreq(f_vecteur,tf_sig):\n",
        "  # Le but de cette fonction est de représenter la transformée de Fourier d'un signal\n",
        "  # Inputs : f_vector est le vecteur de fréquences\n",
        "  #          tf_sig est la transformée de fourier qu'on veut représenter\n",
        "  # Outputs : aucun\n",
        "  #\n",
        "\n",
        "  ######################\n",
        "  ### Votre code ici ###\n",
        "  ######################\n",
        "  \n",
        "  return\n",
        "\n",
        "\n",
        "######################\n",
        "### Votre code ici ###\n",
        "######################\n",
        "# Grace aux fonctions définies ci-dessus calculez et representez la transformee de Fourier du signal fourni.\n"
      ]
    },
    {
      "cell_type": "markdown",
      "metadata": {},
      "source": [
        "Résultat possible :"
      ]
    },
    {
      "cell_type": "markdown",
      "metadata": {
        "id": "LKF9ymfxiplc"
      },
      "source": [
        "<img alt='Solution hint' align='left' width=413 height=300 src=https://raw.githubusercontent.com/decomiteA/LGBIO1114/master/figure2.png>"
      ]
    },
    {
      "cell_type": "markdown",
      "metadata": {
        "id": "xHVXULVTTJs7"
      },
      "source": [
        "## Partie 2 : Filtrage \n",
        "\n",
        "Le filtrage est un procédé qui permet de sélectionner tout ou une partie du spectre d'un signal afin de soit s'en débarasser soit ne garder que cette partie du spectre. Dans ces séances, nous allons rencontrer trois types de filtres : \n",
        "\n",
        "* Filtre passe-bas\n",
        "* Filtre passe-haut\n",
        "* Filtre passe-bande\n",
        "\n",
        "Pour chaque filtre, il est possible de calculer la réponse impulsionnelle et d'étudier ses caractéristiques fréquentielles. \n",
        "\n",
        "**Exercice 3a**\n",
        " \n",
        "Complétez la fonction ci-dessous afin de créer un filtre de butterworth, vous pouvez utiliser la fonction [*scipy.signal.butter*](https://docs.scipy.org/doc/scipy/reference/generated/scipy.signal.butter.html) pour ce faire. "
      ]
    },
    {
      "cell_type": "code",
      "execution_count": null,
      "metadata": {
        "id": "EwO0TvRks7gP"
      },
      "outputs": [],
      "source": [
        "def CreateFilter(filter_order,filter_type,cutoff):\n",
        "  # Le but de cette fonction est de creer un filtre de butterworth\n",
        "  # Inputs : filter_order est l'ordre du filtre \n",
        "  #          filter_type est le type de filtre a creer\n",
        "  #          cutoff contient la/les fréquences de coupûres\n",
        "  # Outputs : b le numerateur de la fonction de transfert du filtre\n",
        "  #           a le dénominateur de la fonction de transfert du filtre \n",
        "  \n",
        "  ######################\n",
        "  ### Votre code ici ###\n",
        "  ######################\n",
        "\n",
        "\n",
        "  return b,a\n",
        "\n",
        "  \n",
        "  "
      ]
    },
    {
      "cell_type": "markdown",
      "metadata": {
        "id": "_mf4VzjEyZ6X"
      },
      "source": [
        "**Exercice 3b** \n",
        "\n",
        "Explorez l'influence de différents paramètres de la fonction ci-dessus sur la réponse impulsionnelle de vos filtres. Comment interprétez vous cette réponse ?"
      ]
    },
    {
      "cell_type": "code",
      "execution_count": null,
      "metadata": {
        "id": "7AQ7pRSNVUto"
      },
      "outputs": [],
      "source": [
        "# @title Etude des paramètres du filtre \n",
        "# @markdown Executez cette fenêtre pour lancer le widget\n",
        "# NE PAS EDITER CETTE CELLULE\n",
        "my_layout.width = '450px'\n",
        "@widgets.interact(\n",
        "    cutoff=widgets.FloatSlider(0.25, min=0.05, max=0.45, step=0.05, layout=my_layout),\n",
        "    order=widgets.IntSlider(1,min=1,max=10,step=1, layout=my_layout),\n",
        "    typefilter=widgets.Dropdown(options=[('Passe-bas', 1), ('Passe-haut', 2), ('Passe-bande', 3)],value=1,description='Type de filtre :',)\n",
        ")\n",
        "def plotimpulserep(order=2,cutoff=0.5,typefilter='lowpass'):\n",
        "    if typefilter == 1:\n",
        "      typefilter ='lowpass'\n",
        "    elif typefilter == 2:\n",
        "      typefilter = 'highpass'\n",
        "    else:\n",
        "      typefilter = 'bandpass'\n",
        "      cutoff = [cutoff, cutoff*2]\n",
        "    b,a = CreateFilter(order,typefilter,cutoff)\n",
        "    w,h = signal.freqs(b,a)\n",
        "    \n",
        "    plt.semilogx(w,20*np.log10(abs(h)))\n",
        "    plt.xlabel('Frequence')\n",
        "    plt.ylabel('Amplitude [dB]')\n",
        "    plt.show()\n",
        "    return"
      ]
    },
    {
      "cell_type": "markdown",
      "metadata": {},
      "source": [
        "Résultat possible :"
      ]
    },
    {
      "cell_type": "markdown",
      "metadata": {
        "id": "qyj5f3A6ivza"
      },
      "source": [
        "<img alt='Solution hint' align='left' width=413 height=300 src=https://raw.githubusercontent.com/decomiteA/LGBIO1114/master/figure3.png>"
      ]
    },
    {
      "cell_type": "markdown",
      "metadata": {
        "id": "F9-U5GvCVW-6"
      },
      "source": [
        "## Partie 3 : Application de filtres sur un signal\n",
        "\n",
        "Dans cette troisième partie, nous allons concilier signaux et filtres afin d'étudier l'impact des différents types de filtres sur un signal donné. Par facilité, nous allons travailler avec le signal dont nous avons calculé la transformée de Fourier en Partie 1.\n",
        "\n",
        "**Exercice 4**\n",
        "\n",
        "Appliquez les différents filtres définis à l'exercice 3 sur le signal d'entrée et étudiez leur impact dans les domaines temporels et fréquentiels. Qu'observez-vous ? \n",
        "\n",
        "*Indice* : Utilisez la fonction [*scipy.signal.filtfilt*](https://docs.scipy.org/doc/scipy/reference/generated/scipy.signal.filtfilt.html) pour appliquer le filtre "
      ]
    },
    {
      "cell_type": "code",
      "execution_count": null,
      "metadata": {
        "id": "qnbraWBrYDhZ"
      },
      "outputs": [],
      "source": [
        "###################\n",
        "#  VOTRE CODE ICI #\n",
        "###################\n",
        "\n"
      ]
    },
    {
      "cell_type": "markdown",
      "metadata": {
        "id": "3q0jjIbZYYfQ"
      },
      "source": [
        "**Exercice 5 - Exercice de réflexion**\n",
        "\n",
        "Quel outil pourriez vous utiliser pour étudier l'effet d'un filtre inconnu sur un signal donné ? Vous pouvez appliquez cela en pratique sur les signaux de cette séance d'exercice."
      ]
    },
    {
      "cell_type": "code",
      "execution_count": null,
      "metadata": {
        "id": "QRnO0lT4z9Yt"
      },
      "outputs": [],
      "source": [
        "######################\n",
        "### Votre code ici ###\n",
        "######################\n",
        "\n"
      ]
    }
  ],
  "metadata": {
    "colab": {
      "collapsed_sections": [],
      "name": "Tutorial1_LGBIO1114nb",
      "provenance": []
    },
    "kernelspec": {
      "display_name": "Python 3",
      "name": "python3"
    },
    "language_info": {
      "codemirror_mode": {
        "name": "ipython",
        "version": 3
      },
      "file_extension": ".py",
      "mimetype": "text/x-python",
      "name": "python",
      "nbconvert_exporter": "python",
      "pygments_lexer": "ipython3",
      "version": "3.9.10"
    }
  },
  "nbformat": 4,
  "nbformat_minor": 0
}
