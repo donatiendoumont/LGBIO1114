{
  "cells": [
    {
      "cell_type": "markdown",
      "metadata": {
        "id": "wvr8nSn9kkO3"
      },
      "source": [
        "## LGBIO1114 - Organes artificiels et réhabilitation\n",
        "\n",
        "__Auteur :__ Antoine De Comite et modifié par Donatien Doumont\n",
        "\n",
        "__Contenu :__ A l'issue de cette séance vous devriez être capables de : \n",
        "\n",
        "\n",
        "*   Comprendre et interpréter les représentations temporelles et fréquentielles d'un signal donné\n",
        "*   Comprendre le concept de filtre digital\n",
        "*   Comprendre et expliquer l'impact d'un filtre sur un signal donné\n",
        "\n"
      ]
    },
    {
      "cell_type": "code",
      "execution_count": 6,
      "metadata": {
        "cellView": "form",
        "id": "bf-aSS6giTio"
      },
      "outputs": [],
      "source": [
        "#@title Librairies utiles \n",
        "\n",
        "import numpy as np\n",
        "import matplotlib.pyplot as plt\n",
        "import scipy as sc\n",
        "from scipy import signal"
      ]
    },
    {
      "cell_type": "code",
      "execution_count": 7,
      "metadata": {
        "cellView": "form",
        "id": "GDszMWMaIpix"
      },
      "outputs": [],
      "source": [
        "#@title Création des signaux\n",
        "# Please execute this cell to launch the tutorial\n",
        "\n",
        "def createSignals():\n",
        "  #This function creates the signal for the second tutorial of LGBIO1114\n",
        "\n",
        "  np.random.seed(42)\n",
        "  amplitudes = np.random.uniform(low=0.5,high=4,size=(25,1))\n",
        "  frequencies = np.random.uniform(low=20,high=5000,size=(25,1))\n",
        "  phases = np.random.uniform(low=0,high=2*np.pi,size=(25,1))\n",
        "  time_vector = np.linspace(0,1,10000)\n",
        "  signal_vector = np.zeros_like(time_vector)\n",
        "  for ii in range(len(amplitudes)):\n",
        "    signal_vector = signal_vector + amplitudes[ii]*np.sin(2*np.pi*frequencies[ii]*time_vector*time_vector+phases[ii])\n",
        "  # Ex1\n",
        "\n",
        "  b1,a1 = sc.signal.butter(6,0.5,'lowpass')\n",
        "  signal_changed1 = signal_vector - 0.9* sc.signal.filtfilt(b1,a1,signal_vector)\n",
        "\n",
        "  # Ex2\n",
        "\n",
        "  b2,a2 = sc.signal.butter(10,(0.25, 0.75),'bandpass')\n",
        "  signal_changed2 = signal_vector - 0.95 * sc.signal.filtfilt(b2,a2,signal_vector)\n",
        "\n",
        "  \n",
        "\n",
        "  # Ex3 - Exercice où il faut un peu plus jouer avec l'ordre du filtre ;) \n",
        "\n",
        "  b3,a3 = sc.signal.butter(1,0.5,'lowpass')\n",
        "  signal_changed3 = signal_vector - 0.9 * sc.signal.filtfilt(b3,a3,signal_vector)\n",
        "  \n",
        "\n",
        "  S = np.vstack((time_vector,signal_vector,signal_changed1,signal_changed2,signal_changed3))\n",
        "\n",
        "  return S\n"
      ]
    },
    {
      "cell_type": "markdown",
      "metadata": {
        "id": "4i6AId2em5qr"
      },
      "source": [
        "## Partie 0 - Introduction\n",
        "\n",
        "En appelant la fonction *CreateSignals* vous aurez accès à des signaux représentant un son tel qu'entendu par différents patients (lignes 3 ,4 et 5)\n",
        "que vous pouvez comparer au signal qu'il devrait entendre s'il n'avait pas de problèmes d'auditions (ligne 2). Le première ligne contient le vecteur temps commun à tous ces signaux.\n",
        "\n",
        "On vous demande, pour chacun des signaux de patient, d'identifier le soucis dont il souffre et de mettre en place une stratégie de traitement de signal lui permettant de récupérer une audition parfaite.\n"
      ]
    },
    {
      "cell_type": "markdown",
      "metadata": {
        "id": "uT6iZmFBnPsF"
      },
      "source": [
        "## Partie 1 - Identifier le problème\n",
        "\n",
        "Dans cette première partie, il vous est demandé d'identifier le soucis dont le patient souffre. Pour ce faire, vous avez accès au signal qu'il devrait entendre et celui qu'il entend. Comparer les signaux dans les domaines temporel et fréquentiel. Qu'observez-vous?\n",
        "\n",
        "\n",
        "\n",
        "*   Trouvez une méthode pour comparer ces deux signaux (*hint*: vous pouvez utiliser des opérations arithmétiques basiques). \n",
        "*   Une fois la méthode de comparaison trouvée, identifiez la ou les gammes de fréquences posant problème.\n",
        "\n"
      ]
    },
    {
      "cell_type": "code",
      "execution_count": 8,
      "metadata": {
        "id": "PnDK33K4pIB4"
      },
      "outputs": [],
      "source": [
        "######################\n",
        "### Votre code ici ###\n",
        "######################"
      ]
    },
    {
      "cell_type": "markdown",
      "metadata": {
        "id": "A3-TdUUGnTJd"
      },
      "source": [
        "## Partie 2 - Résoudre le problème\n",
        "\n",
        "Dans cette seconde partie, il vous est demandé de metter au point une stratégie de traitement de signal permettant de recouvrer une audition normale à partir des signaux entendus par les patients souffrant de surdité légère. Appliquez cela pour chacun des signaux fournis."
      ]
    },
    {
      "cell_type": "code",
      "execution_count": 9,
      "metadata": {
        "id": "oBEc9K-cp3zj"
      },
      "outputs": [],
      "source": [
        "######################\n",
        "### Votre code ici ###\n",
        "######################"
      ]
    }
  ],
  "metadata": {
    "colab": {
      "collapsed_sections": [],
      "name": "Tutorial2_LGBIO1114.ipynb",
      "provenance": []
    },
    "kernelspec": {
      "display_name": "Python 3",
      "name": "python3"
    },
    "language_info": {
      "codemirror_mode": {
        "name": "ipython",
        "version": 3
      },
      "file_extension": ".py",
      "mimetype": "text/x-python",
      "name": "python",
      "nbconvert_exporter": "python",
      "pygments_lexer": "ipython3",
      "version": "3.9.10"
    }
  },
  "nbformat": 4,
  "nbformat_minor": 0
}
