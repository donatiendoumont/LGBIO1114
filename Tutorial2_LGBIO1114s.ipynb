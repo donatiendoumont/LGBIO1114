{
  "cells": [
    {
      "cell_type": "markdown",
      "metadata": {
        "id": "wvr8nSn9kkO3"
      },
      "source": [
        "## LGBIO1114 - Organes artificiels et réhabilitation\n",
        "\n",
        "__Auteur :__ Antoine De Comite et modifié par Donatien Doumont\n",
        "\n",
        "__Contenu :__ A l'issue de cette séance vous devriez être capables de : \n",
        "\n",
        "\n",
        "*   Comprendre et interpréter les représentations temporelles et fréquentielles d'un signal donné\n",
        "*   Comprendre le concept de filtre digital\n",
        "*   Comprendre et expliquer l'impact d'un filtre sur un signal donné\n",
        "\n"
      ]
    },
    {
      "cell_type": "code",
      "execution_count": null,
      "metadata": {
        "id": "bf-aSS6giTio"
      },
      "outputs": [],
      "source": [
        "#@title Librairies utiles \n",
        "\n",
        "import numpy as np\n",
        "import matplotlib.pyplot as plt\n",
        "import scipy as sc\n",
        "from scipy import signal"
      ]
    },
    {
      "cell_type": "code",
      "execution_count": null,
      "metadata": {
        "id": "GDszMWMaIpix"
      },
      "outputs": [],
      "source": [
        "#@title Création des signaux\n",
        "# Please execute this cell to launch the tutorial\n",
        "\n",
        "def createSignals():\n",
        "  #This function creates the signal for the second tutorial of LGBIO1114\n",
        "\n",
        "  np.random.seed(42)\n",
        "  amplitudes = np.random.uniform(low=0.5,high=4,size=(25,1))\n",
        "  frequencies = np.random.uniform(low=20,high=5000,size=(25,1))\n",
        "  phases = np.random.uniform(low=0,high=2*np.pi,size=(25,1))\n",
        "  time_vector = np.linspace(0,1,10000)\n",
        "  signal_vector = np.zeros_like(time_vector)\n",
        "  for ii in range(len(amplitudes)):\n",
        "    signal_vector = signal_vector + amplitudes[ii]*np.sin(2*np.pi*frequencies[ii]*time_vector*time_vector+phases[ii])\n",
        "  # Ex1\n",
        "\n",
        "  b1,a1 = sc.signal.butter(6,0.5,'lowpass')\n",
        "  signal_changed1 = signal_vector - 0.9* sc.signal.filtfilt(b1,a1,signal_vector)\n",
        "\n",
        "  # Ex2\n",
        "\n",
        "  b2,a2 = sc.signal.butter(10,(0.25, 0.75),'bandpass')\n",
        "  signal_changed2 = signal_vector - 0.95 * sc.signal.filtfilt(b2,a2,signal_vector)\n",
        "\n",
        "  \n",
        "\n",
        "  # Ex3 - Exercice où il faut un peu plus jouer avec l'ordre du filtre ;) \n",
        "\n",
        "  b3,a3 = sc.signal.butter(1,0.5,'lowpass')\n",
        "  signal_changed3 = signal_vector - 0.9 * sc.signal.filtfilt(b3,a3,signal_vector)\n",
        "  \n",
        "\n",
        "  S = np.vstack((time_vector,signal_vector,signal_changed1,signal_changed2,signal_changed3))\n",
        "\n",
        "  return S\n"
      ]
    },
    {
      "cell_type": "markdown",
      "metadata": {
        "id": "4i6AId2em5qr"
      },
      "source": [
        "## Partie 0 - Introduction\n",
        "\n",
        "En appelant la fonction *CreateSignals* vous aurez accès à des signaux représentant un son tel qu'entendu par différents patients (lignes 3 et 4)\n",
        "que vous pouvez comparer au signal qu'il devrait entendre s'il n'avait pas de problèmes d'auditions (ligne 2). Le première ligne contient le vecteur temps commun à tous ces signaux.\n",
        "\n",
        "On vous demande, pour chacun des signaux de patient, d'identifier le soucis dont il souffre et de mettre en place une stratégie de traitement de signal lui permettant de récupérer une audition parfaite.\n"
      ]
    },
    {
      "cell_type": "markdown",
      "metadata": {
        "id": "uT6iZmFBnPsF"
      },
      "source": [
        "## Partie 1 - Identifier le problème\n",
        "\n",
        "Dans cette première partie, il vous est demandé d'identifier le soucis dont le patient souffre. Pour ce faire, vous avez accès au signal qu'il devrait entendre et celui qu'il entend. Comparer les signaux dans les domaines temporel et fréquentiel. Qu'observez-vous?\n",
        "\n",
        "\n",
        "\n",
        "*   Trouvez une méthode pour comparer ces deux signaux (hint: vous pouvez utiliser des opérations arithmétiques basiques). \n",
        "*   Une fois la méthode de comparaison trouvée, identifiez la ou les gammes de fréquences posant problème.\n",
        "\n"
      ]
    },
    {
      "cell_type": "code",
      "execution_count": null,
      "metadata": {
        "colab": {
          "base_uri": "https://localhost:8080/",
          "height": 1000
        },
        "id": "PnDK33K4pIB4",
        "outputId": "7432a4c1-7f3c-45e7-d7ca-39e9b8174642"
      },
      "outputs": [],
      "source": [
        "######################\n",
        "### Votre code ici ###\n",
        "######################\n",
        "\n",
        "def computeTF(t_vector, input_signal):\n",
        "  fs = 1/(t_vector[1]-t_vector[0])\n",
        "  tf_sig = np.fft.fft(input_signal)\n",
        "  freqs = np.fft.fftfreq(len(input_signal),d=1/fs)\n",
        "  f_vector = freqs\n",
        "  return tf_sig, f_vector\n",
        "\n",
        "def RepresFreq(f_vecteur,tf_sig):\n",
        "  plt.plot(f_vecteur,tf_sig)\n",
        "  plt.xlabel(\"Fréquence [Hz]\")\n",
        "  plt.ylabel(\"Intensité\")\n",
        "  plt.show()\n",
        "\n",
        "def RepresTemporelle(t_vector,input_signal):\n",
        "  plt.plot(t_vector,input_signal)\n",
        "  plt.title(\"Représentation temporelle\")\n",
        "  plt.xlabel(\"Temps [s]\")\n",
        "  plt.ylabel(\"Intensité\")\n",
        "  plt.show()\n",
        "\n",
        "\n",
        "S = createSignals()\n",
        "temps = S[0,:]\n",
        "n = len(temps)\n",
        "signal_sain = S[1,:]\n",
        "signal_pat1 = S[2,:]\n",
        "signal_pat2 = S[3,:]\n",
        "signal_pat3 = S[4,:]\n",
        "\n",
        "\n",
        "#Computing the Fourier transforms\n",
        "\n",
        "tf_signal_sain,f_vector = computeTF(temps,signal_sain)\n",
        "freqs = f_vector[:n//2]\n",
        "tf_signal_sain = 2*abs(tf_signal_sain[:n//2])/n\n",
        "\n",
        "tf_signal_pat1,f_vector = computeTF(temps,signal_pat1)\n",
        "freqs = f_vector[:n//2]\n",
        "tf_signal_pat1 = 2*abs(tf_signal_pat1[:n//2])/n\n",
        "\n",
        "tf_signal_pat2,f_vector = computeTF(temps,signal_pat2)\n",
        "freqs = f_vector[:n//2]\n",
        "tf_signal_pat2 = 2*abs(tf_signal_pat2[:n//2])/n\n",
        "\n",
        "tf_signal_pat3,f_vector = computeTF(temps,signal_pat3)\n",
        "freqs = f_vector[:n//2]\n",
        "tf_signal_pat3 = 2*abs(tf_signal_pat3[:n//2])/n\n",
        "\n",
        "# Représentation de tous les signaux\n",
        "\n",
        "\n",
        "RepresTemporelle(temps,signal_sain)\n",
        "RepresTemporelle(temps,signal_pat1)\n",
        "RepresTemporelle(temps,signal_pat2)\n",
        "RepresTemporelle(temps,signal_pat3)\n",
        "\n",
        "\n",
        "RepresFreq(freqs,tf_signal_sain)\n",
        "RepresFreq(freqs,tf_signal_pat1)\n",
        "RepresFreq(freqs,tf_signal_pat2)\n",
        "RepresFreq(freqs,tf_signal_pat3)"
      ]
    },
    {
      "cell_type": "code",
      "execution_count": null,
      "metadata": {
        "colab": {
          "base_uri": "https://localhost:8080/",
          "height": 283
        },
        "id": "KXLOEOUfKxAN",
        "outputId": "fb212d75-27e1-4cc3-869a-217b7b19c5b2"
      },
      "outputs": [],
      "source": [
        "# Partie représentant les diagrammes de bode pour les différents signaux\n",
        "\n",
        "\n",
        "bode1 = np.log10(tf_signal_pat1/tf_signal_sain)\n",
        "bode2 = np.log10(tf_signal_pat2/tf_signal_sain)\n",
        "bode3 = np.log10(tf_signal_pat3/tf_signal_sain)\n",
        "\n",
        "\n",
        "fig, ax = plt.subplots(1,3,sharey=True)\n",
        "ax[0].plot(freqs,bode1)\n",
        "ax[1].plot(freqs,bode2)\n",
        "ax[2].plot(freqs,bode3)"
      ]
    },
    {
      "cell_type": "code",
      "execution_count": null,
      "metadata": {
        "colab": {
          "base_uri": "https://localhost:8080/",
          "height": 284
        },
        "id": "trS0olFsQjao",
        "outputId": "c6f7ddd5-6032-4c03-c13d-2bd8c98492b6"
      },
      "outputs": [],
      "source": [
        "# que se passe-t'il si on calcule les différences ? \n",
        "\n",
        "\n",
        "diff1 = tf_signal_sain - tf_signal_pat1\n",
        "diff2 = tf_signal_sain - tf_signal_pat2\n",
        "fig, ax=plt.subplots(1,2,sharey=True)\n",
        "ax[0].plot(freqs,diff1)\n",
        "ax[1].plot(freqs,diff2)"
      ]
    },
    {
      "cell_type": "markdown",
      "metadata": {
        "id": "rwZZdBPRWdpk"
      },
      "source": [
        "On remarque qu'avec les différences, il est très compliqué de déterminer la ou les fréquence(s) de coupure ainsi que les gains à appliquer. Tandis que dans le cas des quotients, c'est beaucoup plus clair.\n",
        "\n",
        "Il est intéressant d'arriver au diagramme de bode car il ramène les rapports en décibels qui sont l'unité de référence pour l'intensité. "
      ]
    },
    {
      "cell_type": "markdown",
      "metadata": {
        "id": "A3-TdUUGnTJd"
      },
      "source": [
        "## Partie 2 - Résoudre le problème\n",
        "\n",
        "Dans cette seconde partie, il vous est demandé de metter au point une stratégie de traitement de signal permettant de recouvrer une audition normale à partir des signaux entendus par les patients souffrant de surdité légère. Appliquez cela pour chacun des signaux fournis."
      ]
    },
    {
      "cell_type": "code",
      "execution_count": null,
      "metadata": {
        "colab": {
          "base_uri": "https://localhost:8080/",
          "height": 783
        },
        "id": "oBEc9K-cp3zj",
        "outputId": "c75b53d2-e053-4620-9ecb-6ef64d356eef"
      },
      "outputs": [],
      "source": [
        "######################\n",
        "### Votre code ici ###\n",
        "######################\n",
        "\n",
        "# Signal 1-3 - Réparation\n",
        "\n",
        "# 1. On va récupérer la partie du signal qui pose soucis en lui appliquant un filtre. L'astuce est de sélectionner le bon type de filtre et la bonne fréquence de coupure\n",
        "\n",
        "b_recup1,a_recup1 = sc.signal.butter(6,0.5,'lowpass')\n",
        "troncature1 = sc.signal.filtfilt(b_recup1,a_recup1,signal_pat1)\n",
        "\n",
        "b_recup2,a_recup2 = sc.signal.butter(10,(0.25,0.75),'bandpass')\n",
        "troncature2 = sc.signal.filtfilt(b_recup2,a_recup2,signal_pat2)\n",
        "signal_sain2 = signal_pat2 + 20*troncature2\n",
        "\n",
        "b_recup3,a_recup3 = sc.signal.butter(1,0.5,'lowpass')\n",
        "troncature3 = sc.signal.filtfilt(b_recup3,a_recup3,signal_pat3)\n",
        "signal_sain3 = signal_pat3 + 10*troncature3\n",
        "\n",
        "# Vérifions que ça aille mieux \n",
        "\n",
        "tf_signal_sain1,f_vector = computeTF(temps,signal_sain1)\n",
        "freqs = f_vector[:n//2]\n",
        "tf_signal_sain1 = 2*abs(tf_signal_sain1[:n//2])/n\n",
        "\n",
        "bode = np.log10(tf_signal_sain1/tf_signal_sain)\n",
        "\n",
        "\n",
        "fig, ax = plt.subplots(1,2)\n",
        "ax[0].plot(freqs,bode)\n",
        "ax[1].plot(freqs,tf_signal_sain1)\n",
        "\n",
        "# signal 2\n",
        "\n",
        "tf_signal_sain2,f_vector = computeTF(temps,signal_sain2)\n",
        "freqs = f_vector[:n//2]\n",
        "tf_signal_sain2 = 2*abs(tf_signal_sain2[:n//2])/n\n",
        "\n",
        "bode = np.log10(tf_signal_sain2/tf_signal_sain)\n",
        "\n",
        "\n",
        "fig, ax = plt.subplots(1,2)\n",
        "ax[0].plot(freqs,bode)\n",
        "ax[1].plot(freqs,tf_signal_sain2)\n",
        "\n",
        "# signal 3\n",
        "\n",
        "tf_signal_sain3,f_vector = computeTF(temps,signal_sain3)\n",
        "freqs = f_vector[:n//2]\n",
        "tf_signal_sain3 = 2*abs(tf_signal_sain3[:n//2])/n\n",
        "\n",
        "bode = np.log10(tf_signal_sain3/tf_signal_sain)\n",
        "\n",
        "\n",
        "fig, ax = plt.subplots(1,2)\n",
        "ax[0].plot(freqs,bode)\n",
        "ax[1].plot(freqs,tf_signal_sain3)"
      ]
    },
    {
      "cell_type": "markdown",
      "metadata": {
        "id": "dqX-X76wfo2i"
      },
      "source": [
        "Numériquement, il n'y a pas de solution \"miracle\" pour se dédouanner du pic central... On peut enchaîner avec des passes bande par exemple mais ça ne fera que déplacer le problème... Après c'est un mal pour un bien ici..."
      ]
    }
  ],
  "metadata": {
    "colab": {
      "collapsed_sections": [],
      "name": "Tutorial2_LGBIO1114s.ipynb",
      "provenance": []
    },
    "kernelspec": {
      "display_name": "Python 3",
      "name": "python3"
    },
    "language_info": {
      "codemirror_mode": {
        "name": "ipython",
        "version": 3
      },
      "file_extension": ".py",
      "mimetype": "text/x-python",
      "name": "python",
      "nbconvert_exporter": "python",
      "pygments_lexer": "ipython3",
      "version": "3.9.10"
    }
  },
  "nbformat": 4,
  "nbformat_minor": 0
}
