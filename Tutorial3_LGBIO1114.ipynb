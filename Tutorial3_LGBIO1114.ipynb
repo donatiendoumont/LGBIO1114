{
  "nbformat": 4,
  "nbformat_minor": 0,
  "metadata": {
    "colab": {
      "name": "Tutorial3_LGBIO1114.ipynb",
      "provenance": [],
      "collapsed_sections": []
    },
    "kernelspec": {
      "name": "python3",
      "display_name": "Python 3"
    }
  },
  "cells": [
    {
      "cell_type": "markdown",
      "metadata": {
        "id": "XvOblx_c0AhS"
      },
      "source": [
        "##LGBIO1114 - Organes artificiels et réhabilitation\n",
        "\n",
        "__Auteur :__ Antoine De Comite\n",
        "\n",
        "__Contenu :__ A l'issue de cette séance vous devriez être capables de : \n",
        "\n",
        "*   Décrire le fonctionnement d'un implant cochléaire\n",
        "*   Comprendre et savoir appliquer les stratégies SPEAK et ICE dans le cadre d'un implant cochléaire\n",
        "\n"
      ]
    },
    {
      "cell_type": "code",
      "metadata": {
        "cellView": "form",
        "id": "0mSryFtcrqrA"
      },
      "source": [
        "#@title Librairies utiles \n",
        "# Please execute this cell to launch the tutorial \n",
        "\n",
        "import numpy as np \n",
        "from scipy import signal\n",
        "import matplotlib.pyplot as plt"
      ],
      "execution_count": null,
      "outputs": []
    },
    {
      "cell_type": "code",
      "metadata": {
        "id": "jJsja8yj124H",
        "cellView": "form"
      },
      "source": [
        "#@title Création des signaux\n",
        "# Please execute this cell to launch the tutorial\n",
        "\n",
        "def createSignal():\n",
        "  #This function creates the signal for the second tutorial of LGBIO1114\n",
        "\n",
        "  np.random.seed(42)\n",
        "  amplitudes = np.random.uniform(low=0.5,high=4,size=(25,1))\n",
        "  frequencies = np.random.uniform(low=20,high=5000,size=(25,1))\n",
        "  phases = np.random.uniform(low=0,high=2*np.pi,size=(25,1))\n",
        "  time_vector = np.linspace(0,1,10000)\n",
        "  signal_vector = np.zeros_like(time_vector)\n",
        "  for ii in range(len(amplitudes)):\n",
        "    signal_vector = signal_vector + amplitudes[ii]*np.sin(2*np.pi*frequencies[ii]*time_vector*time_vector+phases[ii])\n",
        "  \n",
        "  S = np.vstack((time_vector,signal_vector))\n",
        "\n",
        "  return S\n"
      ],
      "execution_count": null,
      "outputs": []
    },
    {
      "cell_type": "markdown",
      "metadata": {
        "id": "QXEfR-Q55kEm"
      },
      "source": [
        "## Partie 0 - Introduction\n",
        "\n",
        "En appelant la fonction *CreateSignal* (vous pouvez utiliser *S = CreateSignal()*) vous obtiendrez, dans la variable *S* un array dont la première ligne est le temps et la seconde est le signal que nous allons utiliser. \n",
        "\n",
        "Dans le cas d'un implant cochléaire, l'oreille interne ne fonctionne plus et le patient est donc sourd. Pour restituer une audition au patient, le nerf auditif sera stimulé directement grâce à une dizaine d'électrodes représentant chacune une certaine bande de fréquences. Afin de déterminer quelles bandes de fréquence exciter, il convient de déterminer ce que contient le signal en termes de contenu fréquentiel. C'est ce que nous allons découvrir au cours de cette séance.\n",
        "\n",
        "\n",
        "On vous demande, d'implémenter les deux stratégies discutées dans l'introduction, à savoir les stratégies SPEAK et ACE, appliquées au signal fourni par la fonction *CreateSignal*.\n",
        "\n",
        "Comparez les performances et capacités de ces deux techniques, qu'en concluez-vous? "
      ]
    },
    {
      "cell_type": "code",
      "metadata": {
        "id": "ALYjRI5N7Hpr"
      },
      "source": [
        "######################\n",
        "### Votre code ici ###\n",
        "######################"
      ],
      "execution_count": null,
      "outputs": []
    }
  ]
}