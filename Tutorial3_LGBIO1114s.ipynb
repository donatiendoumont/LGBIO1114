{
  "cells": [
    {
      "cell_type": "markdown",
      "metadata": {
        "id": "XvOblx_c0AhS"
      },
      "source": [
        "## LGBIO1114 - Organes artificiels et réhabilitation\n",
        "\n",
        "__Auteur :__ Antoine De Comite et modifié par Donatien Doumont\n",
        "\n",
        "__Contenu :__ A l'issue de cette séance vous devriez être capables de : \n",
        "\n",
        "*   Décrire le fonctionnement d'un implant cochléaire\n",
        "*   Comprendre et savoir appliquer les stratégies SPEAK et ICE dans le cadre d'un implant cochléaire\n",
        "\n"
      ]
    },
    {
      "cell_type": "code",
      "execution_count": null,
      "metadata": {
        "cellView": "form",
        "id": "0mSryFtcrqrA"
      },
      "outputs": [],
      "source": [
        "#@title Librairies utiles \n",
        "# Please execute this cell to launch the tutorial \n",
        "\n",
        "import numpy as np \n",
        "from scipy import signal\n",
        "import matplotlib.pyplot as plt"
      ]
    },
    {
      "cell_type": "code",
      "execution_count": null,
      "metadata": {
        "cellView": "form",
        "id": "jJsja8yj124H"
      },
      "outputs": [],
      "source": [
        "#@title Création des signaux\n",
        "# Please execute this cell to launch the tutorial\n",
        "\n",
        "def createSignal():\n",
        "  #This function creates the signal for the second tutorial of LGBIO1114\n",
        "\n",
        "  np.random.seed(42)\n",
        "  amplitudes = np.random.uniform(low=0.5,high=4,size=(25,1))\n",
        "  frequencies = np.random.uniform(low=20,high=5000,size=(25,1))\n",
        "  phases = np.random.uniform(low=0,high=2*np.pi,size=(25,1))\n",
        "  time_vector = np.linspace(0,1,10000)\n",
        "  signal_vector = np.zeros_like(time_vector)\n",
        "  for ii in range(len(amplitudes)):\n",
        "    signal_vector = signal_vector + amplitudes[ii]*np.sin(2*np.pi*frequencies[ii]*time_vector*time_vector+phases[ii])\n",
        "  \n",
        "  S = np.vstack((time_vector,signal_vector))\n",
        "\n",
        "  return S\n"
      ]
    },
    {
      "cell_type": "markdown",
      "metadata": {
        "id": "QXEfR-Q55kEm"
      },
      "source": [
        "## Partie 0 - Introduction\n",
        "\n",
        "En appelant la fonction *CreateSignal* (vous pouvez utiliser *S = CreateSignql()*)vous aurez accès à un signal tel que le patient devrait l'entendre et qu'il faudra essayer de récupérer au mieux dans votre solution.\n",
        "\n",
        "\n",
        "On vous demande, d'implémenter les deux stratégies discutées dans l'introduction, à savoir les stratégies SPEAK et ACE, appliquées au signal fourni par la fonction *CreateSignal*.\n",
        "\n",
        "Comparez les performances et capacités de ces deux techniques, qu'en concluez-vous? "
      ]
    },
    {
      "cell_type": "code",
      "execution_count": null,
      "metadata": {
        "colab": {
          "base_uri": "https://localhost:8080/",
          "height": 574
        },
        "id": "ALYjRI5N7Hpr",
        "outputId": "b9e96f70-cc54-463e-b64a-b1a322f6537e"
      },
      "outputs": [],
      "source": [
        "# Nous allons recupérer les fonctions définines dans les séances précédentes pour nous aider \n",
        "def RepresTemporelle(t_vector,input_signal):\n",
        "  # Le but de cette fonciton est de représenter un signal dans le domaine temporel\n",
        "  # Inputs : t_vector le vecteur temporel\n",
        "  #          input_signal le signal \n",
        "  #\n",
        "  # Outputs : Aucun\n",
        "  plt.plot(t_vector,input_signal)\n",
        "  plt.title('Représentation temporelle')\n",
        "  plt.xlabel('Temps [s]')\n",
        "  plt.ylabel('Intensité')\n",
        "  plt.show()\n",
        "def computeTF(t_vector,input_signal):\n",
        "  # Le but de cette fonction est de calculer la transformée de Fourier d'un signal\n",
        "  # Inputs : t_vector le vecteur temporel\n",
        "  #          input_signal le signal d'entrée \n",
        "  #\n",
        "  # Outputs : tg_sig qui est le vecteur contenant la transformée de Fourier\n",
        "  #           f_vector qui est le vecteur caractérisant l'axe fréquentiel sur lequel la TF est calculée \n",
        "  fs = 1/(t_vector[1]-t_vector[0])\n",
        "  tf_sig = np.fft.fft(input_signal)\n",
        "  freqs = np.fft.fftfreq(len(input_signal),d = 1/fs)\n",
        "  f_vector = freqs\n",
        "  return tf_sig, f_vector\n",
        "def RepresFreq(f_vecteur,tf_sig):\n",
        "  # Le but de cette fonction est de représenter la transformée de Fourier d'un signal\n",
        "  # Inputs : f_vector est le vecteur de fréquences\n",
        "  #          tf_sig est la transformée de fourier qu'on veut représenter\n",
        "  # Outputs : aucun\n",
        "  #\n",
        "  plt.plot(f_vecteur,tf_sig)\n",
        "  plt.title('Répresentation fréquentielle')\n",
        "  plt.xlabel('Fréquence [Hz]')\n",
        "  plt.ylabel('Intensité')\n",
        "  plt.show()\n",
        "\n",
        "# Les lignes ci-dessous vont nous permettre de représenter le signal dans les domaines temporel & fréquentiel\n",
        "\n",
        "S = createSignal()\n",
        "Temps = S[0,:]\n",
        "n = len(Temps)\n",
        "Signal = S[1,:]\n",
        "\n",
        "RepresTemporelle(Temps,Signal)\n",
        "#On n'oublie pas qu'il faut \"replier\" le spectre pour n'observer que l'intensité des pics\n",
        "tf_sig, f_vector = computeTF(Temps,Signal)\n",
        "tf_sig = 2*abs(tf_sig[:n//2])/n\n",
        "f_vector = f_vector[0:n//2]\n",
        "RepresFreq(f_vector,tf_sig)"
      ]
    },
    {
      "cell_type": "markdown",
      "metadata": {
        "id": "NgDPI96yGvEr"
      },
      "source": [
        "On va travailler avec des bandes de 500 Hz. On va faire un passe bas et un passe haut pour les extrémités parce qu'un passe bande n'apprécie pas le bord (plus spécifiquement, les fréquences de coupures d'un filtre passe bande doivent se trouver strictement entre 0 et 1).\n"
      ]
    },
    {
      "cell_type": "code",
      "execution_count": null,
      "metadata": {
        "colab": {
          "base_uri": "https://localhost:8080/",
          "height": 1000
        },
        "id": "_jMQgmD9FrDL",
        "outputId": "94a24b87-1d4d-47b0-8dd8-a0281660532b"
      },
      "outputs": [],
      "source": [
        "bandes_temporel = []\n",
        "bandes_freq = []\n",
        "#Passe bas\n",
        "b,a = signal.butter(6,0.1,\"lowpass\")\n",
        "bandes_temporel.append(signal.filtfilt(b,a,Signal))\n",
        "tf_sig,f_vector = computeTF(Temps,bandes_temporel[0])\n",
        "f_vector = f_vector[:n//2]\n",
        "bandes_freq.append(2*abs(tf_sig[:n//2])/n)\n",
        "\n",
        "#Passes bandes\n",
        "for i in range(8):\n",
        "  b,a = signal.butter(6,((i+1)*0.1,(i+2)*0.1),\"bandpass\")\n",
        "  bandes_temporel.append(signal.filtfilt(b,a,Signal))\n",
        "  tf_sig,f_vector = computeTF(Temps,bandes_temporel[i+1])\n",
        "  f_vector = f_vector[:n//2]\n",
        "  bandes_freq.append(2*abs(tf_sig[:n//2])/n)\n",
        "\n",
        "#Passe haut\n",
        "b,a = signal.butter(6,0.9,\"highpass\")\n",
        "bandes_temporel.append(signal.filtfilt(b,a,Signal))\n",
        "tf_sig,f_vector = computeTF(Temps,bandes_temporel[9])\n",
        "f_vector = f_vector[:n//2]\n",
        "bandes_freq.append(2*abs(tf_sig[:n//2])/n)\n",
        "\n",
        "for j in range(10):\n",
        "  RepresFreq(f_vector,bandes_freq[j])\n"
      ]
    },
    {
      "cell_type": "markdown",
      "metadata": {
        "id": "1ALlXUyOLyN6"
      },
      "source": [
        "On a maintenant accès à 10 bandes de fréquences et on va pouvoir tester la méthode ACE et la méthode SPEAK.\n"
      ]
    },
    {
      "cell_type": "code",
      "execution_count": null,
      "metadata": {
        "colab": {
          "base_uri": "https://localhost:8080/"
        },
        "id": "ITdw38neHcUo",
        "outputId": "92468b09-ab54-4039-8347-f092e06537ba"
      },
      "outputs": [],
      "source": [
        "#Méthode ACE (maxima)\n",
        "maximas = np.zeros(10)\n",
        "for i in range(10):\n",
        "  maximas[i] = np.max(bandes_freq[i])\n",
        "\n",
        "bandes_a_garder = np.zeros(3)\n",
        "index_sorted = np.argsort(maximas)\n",
        "bandes_a_garder = index_sorted[-3:]"
      ]
    },
    {
      "cell_type": "markdown",
      "metadata": {
        "id": "4WCJOmAJPhYV"
      },
      "source": [
        "bandes_a_garder contient les index des 3 bandes avec les maximas en ordre croissant. On va donc pouvoir créer notre signal de sortie."
      ]
    },
    {
      "cell_type": "code",
      "execution_count": null,
      "metadata": {
        "colab": {
          "base_uri": "https://localhost:8080/",
          "height": 296
        },
        "id": "mXwijWbpNo4e",
        "outputId": "4f9e5e1b-172f-4d96-a6bd-4c045c2a5217"
      },
      "outputs": [],
      "source": [
        "signal_sortie_ACE = bandes_freq[bandes_a_garder[0]] + bandes_freq[bandes_a_garder[1]] + bandes_freq[bandes_a_garder[2]]\n",
        "plt.plot(f_vector,signal_sortie_ACE)\n",
        "plt.title(\"Signal avec la méthode ACE\")\n",
        "plt.xlabel(\"Fréquence [Hz]\")\n",
        "plt.ylabel(\"Intensité\")\n",
        "plt.show()"
      ]
    },
    {
      "cell_type": "markdown",
      "metadata": {
        "id": "Vj4gyHH4RcPs"
      },
      "source": [
        "On va maintenant faire la méthode Speak."
      ]
    },
    {
      "cell_type": "code",
      "execution_count": null,
      "metadata": {
        "colab": {
          "base_uri": "https://localhost:8080/",
          "height": 296
        },
        "id": "x-Ea1k-6RgDH",
        "outputId": "6c75eddf-9019-4f3a-e4ac-2630a6d70ff8"
      },
      "outputs": [],
      "source": [
        "#Trapèze : (h/2 * (U_(-h/2) + U_(h/2)\n",
        "def Trapz(U):\n",
        "  n = len(U)\n",
        "  I = 0.0\n",
        "  for i in range(n-1):\n",
        "    I += (U[i+1]+U[i])/2\n",
        "  return I\n",
        "\n",
        "integrals = np.zeros(10)\n",
        "for i in range(10):\n",
        "  integrals[i] = Trapz(bandes_freq[i])\n",
        "\n",
        "bandes_SPEAK = np.zeros(3)\n",
        "index_SPEAK = np.argsort(integrals)\n",
        "bandes_SPEAK = index_SPEAK[-3:]\n",
        "\n",
        "signal_sortie_SPEAK = bandes_freq[bandes_SPEAK[0]] + bandes_freq[bandes_SPEAK[1]] + bandes_freq[bandes_SPEAK[2]]\n",
        "plt.plot(f_vector,signal_sortie_SPEAK)\n",
        "plt.title(\"Signal avec la méthode SPEAK\")\n",
        "plt.xlabel(\"Fréquence [Hz]\")\n",
        "plt.ylabel(\"Intensité\")\n",
        "plt.show()"
      ]
    }
  ],
  "metadata": {
    "colab": {
      "collapsed_sections": [],
      "name": "Copie_de_Tutorial3_LGBIO1114.ipynb",
      "provenance": []
    },
    "kernelspec": {
      "display_name": "Python 3",
      "name": "python3"
    },
    "language_info": {
      "codemirror_mode": {
        "name": "ipython",
        "version": 3
      },
      "file_extension": ".py",
      "mimetype": "text/x-python",
      "name": "python",
      "nbconvert_exporter": "python",
      "pygments_lexer": "ipython3",
      "version": "3.9.10"
    }
  },
  "nbformat": 4,
  "nbformat_minor": 0
}
